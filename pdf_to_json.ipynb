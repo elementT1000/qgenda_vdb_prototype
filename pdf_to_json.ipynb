{
 "cells": [
  {
   "cell_type": "code",
   "execution_count": 1,
   "metadata": {},
   "outputs": [
    {
     "name": "stdout",
     "output_type": "stream",
     "text": [
      "OpenAI key accessed.\n"
     ]
    }
   ],
   "source": [
    "#TODO: Move this to utils.\n",
    "import os\n",
    "\n",
    "openai_key = os.getenv('OPENAI_API_KEY')\n",
    "\n",
    "if openai_key:\n",
    "    print(\"OpenAI key accessed.\")\n",
    "else:\n",
    "    print(\"API Key not found. Check your environment variables.\")"
   ]
  },
  {
   "cell_type": "code",
   "execution_count": 2,
   "metadata": {},
   "outputs": [
    {
     "name": "stdout",
     "output_type": "stream",
     "text": [
      "['Improving Capacity and Revenue \\nthrough Effective Room Management\\nHealthcare Leaders Experiencing Exam Room \\nUtilization Challenges, Leading to Revenue Loss\\nW H I T E PA P E R\\nCopyright © 2024 QGenda, LLC All rights reserved.\\n', 'Copyright © 2024 QGenda, LLC All rights reserved.\\nAs healthcare leaders reimagine patient access and care delivery in a post-pandemic world, there is an\\nemerging story around the need to optimize clinic exam room utilization. Better utilization can improve\\noperating efficiency, patient satisfaction, and revenue capture. The 2020 Porter Research study of\\n100 health system executive leaders identified the many challenges faced today with exam room\\nscheduling, future expectations for optimizing exam rooms, and the impact that proper exam room\\nscheduling can have on a health system’s P&L.\\nIncreasing Scrutiny on Clinic Exam Rooms\\nWith the limited funds available for health system capital expenditures, executives must optimize their \\nexisting physical space while simultaneously remaining adaptable to fluctuations in patient demand.\\nIn the short term, health systems may experience an influx of patients who delayed elective surgeries,\\ntreatments for minor health issues, and preventative visits due to COVID-19. As a result, clinics could\\nbe overwhelmed. Patients may experience significant wait times and cumbersome appointment\\nrescheduling. Inefficient scheduling could result in additional revenue leakage, because patients \\nwho cannot secure timely appointments at their first-choice location may decide to go elsewhere.\\nIn the longer term, executives will need to focus on closing a 20-point utilization gap. Health system\\nexecutives surveyed identified optimal exam room utilization to be between 80 and 89%. However,\\n72% of respondents indicated their clinics were operating well under the optimal level.\\nGenerally, executives identified a 20-point gap between their clinics’ utilization and the optimal\\nutilization level.\\nThe direct impact to health system revenue can be dramatic. The Orthopedic Director at a large \\nregional health system quantified lost revenue attributable to this gap: “Our providers see 25 to 30 \\npatients per day, when in reality, we could see 35 to 40 patients. Given our average billing, there \\nis a minimum of $2,000 per provider per day that we are not able to realize due to exam \\nroom underutilization.”\\n2\\nClinic Exam Room Utilization\\nCurrent\\n40%\\n0%\\n30%\\n20%\\n10%\\n<60\\n61-69\\n70-79\\n80-89\\n90-100\\nUnsure\\n5%\\n16%\\n34%\\n22%\\n20%\\n3%\\nOptimal Utilization\\n', 'Copyright © 2024 QGenda, LLC All rights reserved.\\nAs health systems return to typical operating levels, it will be important to focus on improving room \\nutilization for the long term. For example, closing the utilization gap means that health systems can \\nincrease patient throughput without having to invest in new rooms or buildings or hire new staff. As the \\nVP of Oncology Services at a large health system explained: “If I can increase my exam room utilization \\nby 20%, given my operational expenses, I could save $200,000 per clinic. With 14 clinics, that means \\n$2.8 million in annual savings.”\\nWhile it may take time to fully close the utilization gap, even small improvements are meaningful. At this \\nhealth system for example, each 1% increase in utilization results in a savings of $140,000 per year that \\ncan drop to the bottom line or be invested in revenue-producing activities. This missed opportunity is \\nwhy 70% of executives surveyed expressed a sincere interest in solutions that close the clinic and exam \\nroom utilization gap.\\n3\\nTechnology Not \\nMeeting the Need\\nProper exam room management is challenging. \\nThis is partially because of process and partially \\nbecause most health systems do not have access \\nto exam room scheduling technologies that are \\npurpose-built to optimize physical space. Thirty \\npercent of respondents reported they do not use \\nany software to manage their exam rooms and \\nrequire staff to develop processes unique to each \\ndepartment. Another 20% use Microsoft Excel. The \\nremaining 50% use other technologies that are not \\nintentionally designed for exam room scheduling.\\n“\\nIf I can increase my exam room utilization by \\n20%, given my operational expenses, I could \\nsave $200,000 per clinic. With 14 clinics, that \\nmeans $2.8 million in annual savings.\\n- VP of Oncology Services at Large Health System\\nCurrent Clinic/Exam Room \\nScheduling Solution\\nNo Technology / Solution in Place\\nMicrosoft Excel\\nOther\\n53%\\n30%\\n17%\\n', 'Copyright © 2024 QGenda, LLC All rights reserved.\\nAs a result, over half of our respondents \\nreported experiencing major difficulties with \\ntheir current exam room scheduling solutions. \\nManagement of exam rooms is considered \\ntime-intensive, and the technology is difficult \\nto use and error-prone. The result is outdated \\nor incorrect information and the inability to \\npositively impact utilization. Transparency is \\nalso a key roadblock. Executives routinely cite \\nthe lack of analytics required to even understand \\ntheir current exam room utilization. These issues \\nare compounded when each department uses \\na separate scheduling system, further limiting \\ntransparency and a clinic’s ability to fully \\nutilize exam rooms across departments.\\nAs a result, only 31% of health system executives report being happy with their current solution. \\nThis lack of proper scheduling causes unnecessary delays and limits patient throughput. If significant \\nwait times pervade a health system at an enterprise level, patients may go elsewhere for care.\\nMeasure for Optimal Performance\\nTo maximize the investment in new processes \\nand exam room scheduling technology, health \\nsystems must set utilization targets, measure, \\nand make changes needed to achieve goals. \\nAs most healthcare executives agree, clinics \\nshould be targeting a utilization level \\nabove 80%.\\n4\\nPractical Guidance: Four Things Health Systems Can \\nDo Today to Optimize Exam Room Utilization\\nForward-thinking executives are considering investments in process and technology that optimize \\nexam room utilization now. In fact, 70% of those surveyed expressed an interest in solutions that \\ncan solve their exam room underutilization challenges. Here are four critical considerations when \\ninvesting in exam room management solutions:\\nDigitize for Greater Real-time Visibility \\nDigitize schedules to ensure they are up-to-date \\nand adjusted in real-time, giving full transparency \\nto all stakeholders and providing visibility into \\npotential changes. When applied at the enterprise \\nlevel, the impact of this new transparency can \\ndramatically expand the number of available \\nrooms and increase patient throughput.\\nStandardize for Better Analysis\\nStandardize your scheduling process and \\nterminology to a common language for users, \\nand implement a management system that \\nallows you to properly benchmark and track \\ncommon utilization metrics by department. \\nAt the enterprise level, a standardized process \\nmeans departments can more easily share space, \\nresulting in even greater productivity gains.\\nAutomate to Drive Efficiency \\nIn every clinical context, there are multiple \\nteams of administrators that coordinate \\ndifferent aspects of the room scheduling \\nprocess. Automate to ease the burden on \\nstaff and reduce the number of FTEs required \\nto add new providers, repurpose rooms, and \\naddress schedule changes, while keeping \\nrecords up-to-date.\\nTop Challenges with Exam Room Utilization\\nChallenges\\nTime-intensive to manage\\nOverall\\nDoesn’t integrate with other systems\\nExpensive\\nNo positive effect on utilization\\nPoor transparency / access\\nOutdated or incorrect information\\nDifficult to use\\nError-prone\\nOther\\n19%\\n18%\\n14%\\n13%\\n13%\\n9%\\n7%\\n4%\\n3%\\n', 'Copyright © 2024 QGenda, LLC All rights reserved.\\nAt a time when every dollar counts, health systems should be investing in scheduling solutions that \\noptimize exam room utilization. The most important expected outcomes, as shown in the pie chart, \\ncan be generally grouped into three categories:\\n5\\nDefined Outcomes from Exam Room Optimization\\nImplementing an exam room management system will improve clinic room utilization \\nand increase operational efficiencies, enhancing patient access to care and positioning \\nhealth systems to successfully adapt to the new healthcare environment. Patient \\nthroughput will be increased in a cost-effective manner, thereby increasing operating \\nincome. Now is the time to take a holistic approach to capacity management and \\nevaluate scheduling technologies that are purpose-built to optimize exam \\nroom utilization.\\nIn Conclusion\\nTime is saved and the opportunity for human error, \\nsuch as double-bookings and empty rooms that \\nresult when schedules are kept in silos, is reduced. \\nUnnecessary back-and-forth communication between \\nclinics, departments, providers, and patients decreases. \\nAdministrators can collect the data they need to \\nunderstand utilization trends and address problem areas. \\nThe result is that overhead budgets can be reduced or \\nreallocated to more productive services.\\nOperational Efficiency\\nPatients can access care sooner and spend less time \\nin the waiting room, leading to higher satisfaction and \\ngreater likelihood to return in the future. Providers will \\nhave the flexibility to see more patients and better \\nallocate their time between locations, which means \\nmore billable services per provider.\\nPatient & Provider Satisfaction & Retention\\nPatient throughput is increased with the same number of rooms, eliminating the need for additional \\ncapital expenditure. Billing is increased either among existing providers or by expanding the number \\nof providers, without incremental investment in real estate. The reduction in overhead cost that was \\nassociated with unused exam room time drops right to the bottom line.\\nProfit Maximization\\nMost Important Outcomes\\nMaximize Profit\\nOperational Efficiency\\nPatient & Provider Satisfaction & Retention\\n54%\\n25%\\n21%\\n', 'About QGenda\\nQGenda revolutionizes healthcare workforce management everywhere care is delivered. QGenda \\nProviderCloud, a purpose-built healthcare platform that empowers customers to effectively deploy \\nworkforce resources, includes solutions for scheduling, credentialing, on-call scheduling, room and \\ncapacity management, time tracking, compensation management, and workforce analytics. \\nMore than 4,500 organizations partner with QGenda to advance provider scheduling, optimize \\ncapacity, and improve access to care. QGenda is headquartered in Atlanta, Georgia.\\nLearn more at www.QGenda.com\\nAbout Porter Research\\nPorter Research works with healthcare and IT companies to develop and execute market research \\nprograms and create strategies using market intelligence uncovered. With 30 years of experience, \\nwe have worked with more than 300 IT companies, and complete thousands of interviews each year. \\nThis means we know your industry, we know how you need to use the data, and we execute the right \\nresearch program to uncover what you can’t find on your own. \\nFor more information visit www.porterresearch.com\\nLearn how QGenda can help improve exam room utilization and increase \\noperational efficiencies.\\nwww.QGenda.com/clinic-exam-room-capacity\\nCopyright © 2024 QGenda, LLC All rights reserved.\\n6\\n']\n"
     ]
    }
   ],
   "source": [
    "import fitz  # PyMuPDF\n",
    "from pathlib import Path\n",
    "\n",
    "def extract_text_from_pdf(pdf_path):\n",
    "    pdf_document = fitz.open(pdf_path)\n",
    "    page_texts = []\n",
    "    for page_num in range(len(pdf_document)):\n",
    "        page = pdf_document.load_page(page_num)\n",
    "        text = page.get_text()\n",
    "        page_texts.append(text)\n",
    "    return page_texts\n",
    "\n",
    "pdf=Path(\"docs/QGenda Whitepaper.pdf\")\n",
    "\n",
    "raw_text = extract_text_from_pdf(pdf)\n",
    "print(raw_text)\n"
   ]
  },
  {
   "cell_type": "code",
   "execution_count": 3,
   "metadata": {},
   "outputs": [
    {
     "name": "stdout",
     "output_type": "stream",
     "text": [
      "[\n",
      "    {\n",
      "        \"index\": 0,\n",
      "        \"text\": \"Improving Capacity and Revenue \\nthrough Effective Room Management\\nHealthcare Leaders Experiencing Exam Room \\nUtilization Challenges, Leading to Revenue Loss\\nW H I T E PA P E R\\nCopyright \\u00a9 2024 QGenda, LLC All rights reserved.\\n\"\n",
      "    },\n",
      "    {\n",
      "        \"index\": 1,\n",
      "        \"text\": \"Copyright \\u00a9 2024 QGenda, LLC All rights reserved.\\nAs healthcare leaders reimagine patient access and care delivery in a post-pandemic world, there is an\\nemerging story around the need to optimize clinic exam room utilization. Better utilization can improve\\noperating efficiency, patient satisfaction, and revenue capture. The 2020 Porter Research study of\\n100 health system executive leaders identified the many challenges faced today with exam room\\nscheduling, future expectations for optimizing exam rooms, and the impact that proper exam room\\nscheduling can have on a health system\\u2019s P&L.\\nIncreasing Scrutiny on Clinic Exam Rooms\\nWith the limited funds available for health system capital expenditures, executives must optimize their \\nexisting physical space while simultaneously remaining adaptable to fluctuations in patient demand.\\nIn the short term, health systems may experience an influx of patients who delayed elective surgeries,\\ntreatments for minor health issues, and preventative visits due to COVID-19. As a result, clinics could\\nbe overwhelmed. Patients may experience significant wait times and cumbersome appointment\\nrescheduling. Inefficient scheduling could result in additional revenue leakage, because patients \\nwho cannot secure timely appointments at their first-choice location may decide to go elsewhere.\\nIn the longer term, executives will need to focus on closing a 20-point utilization gap. Health system\\nexecutives surveyed identified optimal exam room utilization to be between 80 and 89%. However,\\n72% of respondents indicated their clinics were operating well under the optimal level.\\nGenerally, executives identified a 20-point gap between their clinics\\u2019 utilization and the optimal\\nutilization level.\\nThe direct impact to health system revenue can be dramatic. The Orthopedic Director at a large \\nregional health system quantified lost revenue attributable to this gap: \\u201cOur providers see 25 to 30 \\npatients per day, when in reality, we could see 35 to 40 patients. Given our average billing, there \\nis a minimum of $2,000 per provider per day that we are not able to realize due to exam \\nroom underutilization.\\u201d\\n2\\nClinic Exam Room Utilization\\nCurrent\\n40%\\n0%\\n30%\\n20%\\n10%\\n<60\\n61-69\\n70-79\\n80-89\\n90-100\\nUnsure\\n5%\\n16%\\n34%\\n22%\\n20%\\n3%\\nOptimal Utilization\\n\"\n",
      "    },\n",
      "    {\n",
      "        \"index\": 2,\n",
      "        \"text\": \"Copyright \\u00a9 2024 QGenda, LLC All rights reserved.\\nAs health systems return to typical operating levels, it will be important to focus on improving room \\nutilization for the long term. For example, closing the utilization gap means that health systems can \\nincrease patient throughput without having to invest in new rooms or buildings or hire new staff. As the \\nVP of Oncology Services at a large health system explained: \\u201cIf I can increase my exam room utilization \\nby 20%, given my operational expenses, I could save $200,000 per clinic. With 14 clinics, that means \\n$2.8 million in annual savings.\\u201d\\nWhile it may take time to fully close the utilization gap, even small improvements are meaningful. At this \\nhealth system for example, each 1% increase in utilization results in a savings of $140,000 per year that \\ncan drop to the bottom line or be invested in revenue-producing activities. This missed opportunity is \\nwhy 70% of executives surveyed expressed a sincere interest in solutions that close the clinic and exam \\nroom utilization gap.\\n3\\nTechnology Not \\nMeeting the Need\\nProper exam room management is challenging. \\nThis is partially because of process and partially \\nbecause most health systems do not have access \\nto exam room scheduling technologies that are \\npurpose-built to optimize physical space. Thirty \\npercent of respondents reported they do not use \\nany software to manage their exam rooms and \\nrequire staff to develop processes unique to each \\ndepartment. Another 20% use Microsoft Excel. The \\nremaining 50% use other technologies that are not \\nintentionally designed for exam room scheduling.\\n\\u201c\\nIf I can increase my exam room utilization by \\n20%, given my operational expenses, I could \\nsave $200,000 per clinic. With 14 clinics, that \\nmeans $2.8 million in annual savings.\\n- VP of Oncology Services at Large Health System\\nCurrent Clinic/Exam Room \\nScheduling Solution\\nNo Technology / Solution in Place\\nMicrosoft Excel\\nOther\\n53%\\n30%\\n17%\\n\"\n",
      "    },\n",
      "    {\n",
      "        \"index\": 3,\n",
      "        \"text\": \"Copyright \\u00a9 2024 QGenda, LLC All rights reserved.\\nAs a result, over half of our respondents \\nreported experiencing major difficulties with \\ntheir current exam room scheduling solutions. \\nManagement of exam rooms is considered \\ntime-intensive, and the technology is difficult \\nto use and error-prone. The result is outdated \\nor incorrect information and the inability to \\npositively impact utilization. Transparency is \\nalso a key roadblock. Executives routinely cite \\nthe lack of analytics required to even understand \\ntheir current exam room utilization. These issues \\nare compounded when each department uses \\na separate scheduling system, further limiting \\ntransparency and a clinic\\u2019s ability to fully \\nutilize exam rooms across departments.\\nAs a result, only 31% of health system executives report being happy with their current solution. \\nThis lack of proper scheduling causes unnecessary delays and limits patient throughput. If significant \\nwait times pervade a health system at an enterprise level, patients may go elsewhere for care.\\nMeasure for Optimal Performance\\nTo maximize the investment in new processes \\nand exam room scheduling technology, health \\nsystems must set utilization targets, measure, \\nand make changes needed to achieve goals. \\nAs most healthcare executives agree, clinics \\nshould be targeting a utilization level \\nabove 80%.\\n4\\nPractical Guidance: Four Things Health Systems Can \\nDo Today to Optimize Exam Room Utilization\\nForward-thinking executives are considering investments in process and technology that optimize \\nexam room utilization now. In fact, 70% of those surveyed expressed an interest in solutions that \\ncan solve their exam room underutilization challenges. Here are four critical considerations when \\ninvesting in exam room management solutions:\\nDigitize for Greater Real-time Visibility \\nDigitize schedules to ensure they are up-to-date \\nand adjusted in real-time, giving full transparency \\nto all stakeholders and providing visibility into \\npotential changes. When applied at the enterprise \\nlevel, the impact of this new transparency can \\ndramatically expand the number of available \\nrooms and increase patient throughput.\\nStandardize for Better Analysis\\nStandardize your scheduling process and \\nterminology to a common language for users, \\nand implement a management system that \\nallows you to properly benchmark and track \\ncommon utilization metrics by department. \\nAt the enterprise level, a standardized process \\nmeans departments can more easily share space, \\nresulting in even greater productivity gains.\\nAutomate to Drive Efficiency \\nIn every clinical context, there are multiple \\nteams of administrators that coordinate \\ndifferent aspects of the room scheduling \\nprocess. Automate to ease the burden on \\nstaff and reduce the number of FTEs required \\nto add new providers, repurpose rooms, and \\naddress schedule changes, while keeping \\nrecords up-to-date.\\nTop Challenges with Exam Room Utilization\\nChallenges\\nTime-intensive to manage\\nOverall\\nDoesn\\u2019t integrate with other systems\\nExpensive\\nNo positive effect on utilization\\nPoor transparency / access\\nOutdated or incorrect information\\nDifficult to use\\nError-prone\\nOther\\n19%\\n18%\\n14%\\n13%\\n13%\\n9%\\n7%\\n4%\\n3%\\n\"\n",
      "    },\n",
      "    {\n",
      "        \"index\": 4,\n",
      "        \"text\": \"Copyright \\u00a9 2024 QGenda, LLC All rights reserved.\\nAt a time when every dollar counts, health systems should be investing in scheduling solutions that \\noptimize exam room utilization. The most important expected outcomes, as shown in the pie chart, \\ncan be generally grouped into three categories:\\n5\\nDefined Outcomes from Exam Room Optimization\\nImplementing an exam room management system will improve clinic room utilization \\nand increase operational efficiencies, enhancing patient access to care and positioning \\nhealth systems to successfully adapt to the new healthcare environment. Patient \\nthroughput will be increased in a cost-effective manner, thereby increasing operating \\nincome. Now is the time to take a holistic approach to capacity management and \\nevaluate scheduling technologies that are purpose-built to optimize exam \\nroom utilization.\\nIn Conclusion\\nTime is saved and the opportunity for human error, \\nsuch as double-bookings and empty rooms that \\nresult when schedules are kept in silos, is reduced. \\nUnnecessary back-and-forth communication between \\nclinics, departments, providers, and patients decreases. \\nAdministrators can collect the data they need to \\nunderstand utilization trends and address problem areas. \\nThe result is that overhead budgets can be reduced or \\nreallocated to more productive services.\\nOperational Efficiency\\nPatients can access care sooner and spend less time \\nin the waiting room, leading to higher satisfaction and \\ngreater likelihood to return in the future. Providers will \\nhave the flexibility to see more patients and better \\nallocate their time between locations, which means \\nmore billable services per provider.\\nPatient & Provider Satisfaction & Retention\\nPatient throughput is increased with the same number of rooms, eliminating the need for additional \\ncapital expenditure. Billing is increased either among existing providers or by expanding the number \\nof providers, without incremental investment in real estate. The reduction in overhead cost that was \\nassociated with unused exam room time drops right to the bottom line.\\nProfit Maximization\\nMost Important Outcomes\\nMaximize Profit\\nOperational Efficiency\\nPatient & Provider Satisfaction & Retention\\n54%\\n25%\\n21%\\n\"\n",
      "    },\n",
      "    {\n",
      "        \"index\": 5,\n",
      "        \"text\": \"About QGenda\\nQGenda revolutionizes healthcare workforce management everywhere care is delivered. QGenda \\nProviderCloud, a purpose-built healthcare platform that empowers customers to effectively deploy \\nworkforce resources, includes solutions for scheduling, credentialing, on-call scheduling, room and \\ncapacity management, time tracking, compensation management, and workforce analytics. \\nMore than 4,500 organizations partner with QGenda to advance provider scheduling, optimize \\ncapacity, and improve access to care. QGenda is headquartered in Atlanta, Georgia.\\nLearn more at www.QGenda.com\\nAbout Porter Research\\nPorter Research works with healthcare and IT companies to develop and execute market research \\nprograms and create strategies using market intelligence uncovered. With 30 years of experience, \\nwe have worked with more than 300 IT companies, and complete thousands of interviews each year. \\nThis means we know your industry, we know how you need to use the data, and we execute the right \\nresearch program to uncover what you can\\u2019t find on your own. \\nFor more information visit www.porterresearch.com\\nLearn how QGenda can help improve exam room utilization and increase \\noperational efficiencies.\\nwww.QGenda.com/clinic-exam-room-capacity\\nCopyright \\u00a9 2024 QGenda, LLC All rights reserved.\\n6\\n\"\n",
      "    }\n",
      "]\n"
     ]
    }
   ],
   "source": [
    "# Pagination\n",
    "import re\n",
    "import json\n",
    "\n",
    "# Regular expression pattern to match copyright text\n",
    "pattern = r\"Copyright © 2024 QGenda, LLC All rights reserved.\"\n",
    "\n",
    "# Split data after each occurrence of the pattern\n",
    "pages = []\n",
    "current_page = []\n",
    "for index, item in enumerate(raw_text):\n",
    "    current_page.append(item)\n",
    "    if re.search(pattern, item):\n",
    "        pages.append({\"index\": len(pages), \"text\": \"\".join(current_page)})\n",
    "        current_page = []\n",
    "\n",
    "# Convert the pages list to JSON format\n",
    "pages_json = json.dumps(pages, indent=4)\n",
    "\n",
    "# Output the result\n",
    "print(pages_json)"
   ]
  },
  {
   "cell_type": "code",
   "execution_count": 4,
   "metadata": {},
   "outputs": [],
   "source": [
    "# Set up prompt for GPT\n",
    "from langchain.prompts import PromptTemplate\n",
    "\n",
    "template = \"\"\"\n",
    "Given the following extracted parts of a PDF document (\"SOURCES\") identify the primary text of the document (i.e. ignore text like 'Copyright © 2024' and 'n19%') and transcribe it.\n",
    "Transcribe it strictly and do not add any other boiler plate text to you answer. It should just be text from the document. \n",
    "REMOVE encoding symbols for new lines (\\n and \\n\\n), and make sure to look for this pattern even if they're touching another word. \n",
    "SOURCES:\n",
    "{summaries}\n",
    "=========\n",
    "ANSWER:\n",
    "\"\"\"\n",
    "prompt = PromptTemplate(template=template, input_variables=[\"summaries\"])"
   ]
  },
  {
   "cell_type": "code",
   "execution_count": 5,
   "metadata": {},
   "outputs": [
    {
     "name": "stderr",
     "output_type": "stream",
     "text": [
      "C:\\Users\\trott\\AppData\\Local\\Temp\\ipykernel_23388\\2941083774.py:10: LangChainDeprecationWarning: The class `LLMChain` was deprecated in LangChain 0.1.17 and will be removed in 1.0. Use :meth:`~RunnableSequence, e.g., `prompt | llm`` instead.\n",
      "  chain_qa = LLMChain(llm=llm, prompt=prompt)\n"
     ]
    },
    {
     "name": "stdout",
     "output_type": "stream",
     "text": [
      "[\n",
      "    {\n",
      "        \"index\": 0,\n",
      "        \"text\": \"Improving Capacity and Revenue through Effective Room Management\\nHealthcare Leaders Experiencing Exam Room Utilization Challenges, Leading to Revenue Loss\"\n",
      "    },\n",
      "    {\n",
      "        \"index\": 1,\n",
      "        \"text\": \"As healthcare leaders reimagine patient access and care delivery in a post-pandemic world, there is an emerging story around the need to optimize clinic exam room utilization. Better utilization can improve operating efficiency, patient satisfaction, and revenue capture. The 2020 Porter Research study of 100 health system executive leaders identified the many challenges faced today with exam room scheduling, future expectations for optimizing exam rooms, and the impact that proper exam room scheduling can have on a health system\\u2019s P&L. Increasing Scrutiny on Clinic Exam Rooms With the limited funds available for health system capital expenditures, executives must optimize their existing physical space while simultaneously remaining adaptable to fluctuations in patient demand. In the short term, health systems may experience an influx of patients who delayed elective surgeries, treatments for minor health issues, and preventative visits due to COVID-19. As a result, clinics could be overwhelmed. Patients may experience significant wait times and cumbersome appointment rescheduling. Inefficient scheduling could result in additional revenue leakage, because patients who cannot secure timely appointments at their first-choice location may decide to go elsewhere. In the longer term, executives will need to focus on closing a 20-point utilization gap. Health system executives surveyed identified optimal exam room utilization to be between 80 and 89%. However, \"\n",
      "    },\n",
      "    {\n",
      "        \"index\": 2,\n",
      "        \"text\": \"As health systems return to typical operating levels, it will be important to focus on improving room utilization for the long term. For example, closing the utilization gap means that health systems can increase patient throughput without having to invest in new rooms or buildings or hire new staff. As the VP of Oncology Services at a large health system explained: \\\"If I can increase my exam room utilization by 20%, given my operational expenses, I could save $200,000 per clinic. With 14 clinics, that means $2.8 million in annual savings.\\\" While it may take time to fully close the utilization gap, even small improvements are meaningful. At this health system for example, each 1% increase in utilization results in a savings of $140,000 per year that can drop to the bottom line or be invested in revenue-producing activities. This missed opportunity is why 70% of executives surveyed expressed a sincere interest in solutions that close the clinic and exam room utilization gap. Proper exam room management is challenging. This is partially because of process and partially because most health systems do not have access to exam room scheduling technologies that are purpose-built to optimize physical space. Thirty percent of respondents reported they do not use any software to manage their exam rooms and require staff to develop processes unique\"\n",
      "    },\n",
      "    {\n",
      "        \"index\": 3,\n",
      "        \"text\": \"\\nOver half of our respondents reported experiencing major difficulties with their current exam room scheduling solutions. Management of exam rooms is considered time-intensive, and the technology is difficult to use and error-prone. The result is outdated or incorrect information and the inability to positively impact utilization. Transparency is also a key roadblock. Executives routinely cite the lack of analytics required to even understand their current exam room utilization. These issues are compounded when each department uses a separate scheduling system, further limiting transparency and a clinic's ability to fully utilize exam rooms across departments. To maximize the investment in new processes and exam room scheduling technology, health systems must set utilization targets, measure, and make changes needed to achieve goals. In fact, 70% of those surveyed expressed an interest in solutions that can solve their exam room underutilization challenges. Here are four critical considerations when investing in exam room management solutions: Digitize schedules to ensure they are up-to-date and adjusted in real-time, giving full transparency to all stakeholders and providing visibility into potential changes. When applied at the enterprise level, the impact of this new transparency can dramatically expand the number of available rooms and increase patient throughput. Standardize your scheduling process and terminology to a common language for users, and implement a management system that allows you to\"\n",
      "    },\n",
      "    {\n",
      "        \"index\": 4,\n",
      "        \"text\": \"Implementing an exam room management system will improve clinic room utilization and increase operational efficiencies, enhancing patient access to care and positioning health systems to successfully adapt to the new healthcare environment. Patient throughput will be increased in a cost-effective manner, thereby increasing operating income.\\nIn Conclusion Time is saved and the opportunity for human error, such as double-bookings and empty rooms that result when schedules are kept in silos, is reduced. Unnecessary back-and-forth communication between clinics, departments, providers, and patients decreases. Administrators can collect the data they need to understand utilization trends and address problem areas. The result is that overhead budgets can be reduced or reallocated to more productive services. Patients can access care sooner and spend less time in the waiting room, leading to higher satisfaction and greater likelihood to return in the future. Providers will have the flexibility to see more patients and better allocate their time between locations, which means more billable services per provider.\\nPatient throughput is increased with the same number of rooms, eliminating the need for additional capital expenditure. Billing is increased either among existing providers or by expanding the number of providers, without incremental investment in real estate. The reduction in overhead cost that was associated with unused exam room time drops right to the bottom line.\"\n",
      "    },\n",
      "    {\n",
      "        \"index\": 5,\n",
      "        \"text\": \"QGenda revolutionizes healthcare workforce management everywhere care is delivered. QGenda ProviderCloud, a purpose-built healthcare platform that empowers customers to effectively deploy workforce resources, includes solutions for scheduling, credentialing, on-call scheduling, room and capacity management, time tracking, compensation management, and workforce analytics. More than 4,500 organizations partner with QGenda to advance provider scheduling, optimize capacity, and improve access to care. QGenda is headquartered in Atlanta, Georgia. Porter Research works with healthcare and IT companies to develop and execute market research programs and create strategies using market intelligence uncovered. With 30 years of experience, we have worked with more than 300 IT companies, and complete thousands of interviews each year. This means we know your industry, we know how you need to use the data, and we execute the right research program to uncover what you can\\u2019t find on your own. Learn how QGenda can help improve exam room utilization and increase operational efficiencies.\"\n",
      "    }\n",
      "]\n"
     ]
    }
   ],
   "source": [
    "# Lazy way: Use LLM to clean up outputs.\n",
    "from langchain_openai import OpenAI\n",
    "from langchain.docstore.document import Document\n",
    "from langchain.chains import LLMChain\n",
    "\n",
    "llm = OpenAI(temperature=1.0)\n",
    "cleaned_pages = []\n",
    "for page in pages:\n",
    "    raw_text = page['text']\n",
    "    chain_qa = LLMChain(llm=llm, prompt=prompt)\n",
    "    llm_results = chain_qa.invoke({\"summaries\": raw_text}, return_only_outputs=True)\n",
    "    cleaned_text = llm_results['text']\n",
    "    cleaned_pages.append({\"index\": page['index'], \"text\": cleaned_text})\n",
    "\n",
    "# Convert the cleaned pages list to JSON format\n",
    "cleaned_pages_json = json.dumps(cleaned_pages, indent=4)\n",
    "\n",
    "# Output the result\n",
    "print(cleaned_pages_json)"
   ]
  },
  {
   "cell_type": "code",
   "execution_count": 6,
   "metadata": {},
   "outputs": [],
   "source": [
    "from pathlib import Path\n",
    "\n",
    "# Map this to the first cell\n",
    "original_f = Path(pdf)\n",
    "new_f = original_f.with_stem(original_f.stem + '_cleaned')\n",
    "json_format = new_f.with_suffix('.json')\n",
    "\n",
    "with open(json_format, 'w', encoding='utf-8') as file:\n",
    "    file.write(cleaned_pages_json)"
   ]
  }
 ],
 "metadata": {
  "kernelspec": {
   "display_name": ".venv",
   "language": "python",
   "name": "python3"
  },
  "language_info": {
   "codemirror_mode": {
    "name": "ipython",
    "version": 3
   },
   "file_extension": ".py",
   "mimetype": "text/x-python",
   "name": "python",
   "nbconvert_exporter": "python",
   "pygments_lexer": "ipython3",
   "version": "3.12.6"
  }
 },
 "nbformat": 4,
 "nbformat_minor": 2
}

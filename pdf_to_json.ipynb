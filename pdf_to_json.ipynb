{
 "cells": [
  {
   "cell_type": "markdown",
   "metadata": {},
   "source": [
    "The following 2 cells access the PDF stored in the 'docs' directory, extract text from it, and convert it into JSON format indexed by page. "
   ]
  },
  {
   "cell_type": "code",
   "execution_count": 5,
   "metadata": {},
   "outputs": [],
   "source": [
    "import fitz  # PyMuPDF\n",
    "from pathlib import Path\n",
    "\n",
    "def extract_text_from_pdf(pdf_path):\n",
    "    pdf_document = fitz.open(pdf_path)\n",
    "    page_texts = []\n",
    "    for page_num in range(len(pdf_document)):\n",
    "        page = pdf_document.load_page(page_num)\n",
    "        text = page.get_text()\n",
    "        page_texts.append(text)\n",
    "    return page_texts\n",
    "\n",
    "pdf=Path(\"docs/QGenda Whitepaper.pdf\")\n",
    "\n",
    "raw_text = extract_text_from_pdf(pdf)\n",
    "# print(raw_text)\n"
   ]
  },
  {
   "cell_type": "code",
   "execution_count": 6,
   "metadata": {},
   "outputs": [],
   "source": [
    "# Pagination\n",
    "import re\n",
    "import json\n",
    "\n",
    "# Regular expression pattern to match copyright text\n",
    "pattern = r\"Copyright © 2024 QGenda, LLC All rights reserved.\"\n",
    "\n",
    "# Split data after each occurrence of the pattern\n",
    "pages = []\n",
    "current_page = []\n",
    "for index, item in enumerate(raw_text):\n",
    "    current_page.append(item)\n",
    "    if re.search(pattern, item):\n",
    "        pages.append({\"index\": len(pages), \"text\": \"\".join(current_page)})\n",
    "        current_page = []\n",
    "\n",
    "# Convert the pages list to JSON format\n",
    "pages_json = json.dumps(pages, indent=4)\n",
    "\n",
    "# Output the result\n",
    "# print(pages_json)"
   ]
  },
  {
   "cell_type": "markdown",
   "metadata": {},
   "source": [
    "Now, we clean the data the lazy way. Use a GPT from OpenAI to transcrobe the important text and remove symbols that are artifacts of encoding."
   ]
  },
  {
   "cell_type": "code",
   "execution_count": 7,
   "metadata": {},
   "outputs": [],
   "source": [
    "from langchain.prompts import PromptTemplate\n",
    "\n",
    "template = \"\"\"\n",
    "Given the following extracted parts of a PDF document (\"SOURCES\") identify the primary text of the document (i.e. ignore text like 'Copyright © 2024' and 'n19%') and transcribe it.\n",
    "Transcribe it strictly and do not add any other boiler plate text to you answer. It should just be text from the document. \n",
    "REMOVE encoding symbols for new lines (\\n and \\n\\n), and make sure to look for this pattern even if they're touching another word. \n",
    "SOURCES:\n",
    "{summaries}\n",
    "=========\n",
    "ANSWER:\n",
    "\"\"\"\n",
    "prompt = PromptTemplate(template=template, input_variables=[\"summaries\"])"
   ]
  },
  {
   "cell_type": "code",
   "execution_count": 12,
   "metadata": {},
   "outputs": [
    {
     "name": "stdout",
     "output_type": "stream",
     "text": [
      "OpenAI key accessed.\n",
      "[\n",
      "    {\n",
      "        \"index\": 0,\n",
      "        \"text\": \"Improving Capacity and Revenue through Effective Room Management Healthcare Leaders Experiencing Exam Room Utilization Challenges, Leading to Revenue Loss\"\n",
      "    },\n",
      "    {\n",
      "        \"index\": 1,\n",
      "        \"text\": \"As healthcare leaders reimagine patient access and care delivery in a post-pandemic world, there is an emerging story around the need to optimize clinic exam room utilization. Better utilization can improve operating efficiency, patient satisfaction, and revenue capture. The 2020 Porter Research study of 100 health system executive leaders identified the many challenges faced today with exam room scheduling, future expectations for optimizing exam rooms, and the impact that proper exam room scheduling can have on a health system\\u2019s P&L. Increasing Scrutiny on Clinic Exam Rooms. With the limited funds available for health system capital expenditures, executives must optimize their existing physical space while simultaneously remaining adaptable to fluctuations in patient demand. In the short term, health systems may experience an influx of patients who delayed elective surgeries, treatments for minor health issues, and preventative visits due to COVID-19. As a result, clinics could be overwhelmed. Patients may experience significant wait times and cumbersome appointment rescheduling. Inefficient scheduling could result in additional revenue leakage, because patients who cannot secure timely appointments at their first-choice location may decide to go elsewhere. In the longer term, executives will need to focus on closing a 20-point utilization gap. Health system executives surveyed identified optimal exam room utilization to be between 80 and 89%. However,\"\n",
      "    },\n",
      "    {\n",
      "        \"index\": 2,\n",
      "        \"text\": \"As health systems return to typical operating levels, it will be important to focus on improving room utilization for the long term. For example, closing the utilization gap means that health systems can increase patient throughput without having to invest in new rooms or buildings or hire new staff. As the VP of Oncology Services at a large health system explained: \\u201cIf I can increase my exam room utilization by 20%, given my operational expenses, I could save $200,000 per clinic. With 14 clinics, that means $2.8 million in annual savings.\\u201d\\n\\nWhile it may take time to fully close the utilization gap, even small improvements are meaningful. At this health system for example, each 1% increase in utilization results in a savings of $140,000 per year that can drop to the bottom line or be invested in revenue-producing activities. This missed opportunity is why 70% of executives surveyed expressed a sincere interest in solutions that close the clinic and exam room utilization gap.\"\n",
      "    },\n",
      "    {\n",
      "        \"index\": 3,\n",
      "        \"text\": \"\\nAs a result, over half of our respondents reported experiencing major difficulties with their current exam room scheduling solutions. Management of exam rooms is considered time-intensive, and the technology is difficult to use and error-prone. The result is outdated or incorrect information and the inability to positively impact utilization. Transparency is also a key roadblock. Executives routinely cite the lack of analytics required to even understand their current exam room utilization. These issues are compounded when each department uses a separate scheduling system, further limiting transparency and a clinic's ability to fully utilize exam rooms across departments. As a result, only 31% of health system executives report being happy with their current solution. This lack of proper scheduling causes unnecessary delays and limits patient throughput. If significant wait times pervade a health system at an enterprise level, patients may go elsewhere for care. To maximize the investment in new processes and exam room scheduling technology, health systems must set utilization targets, measure, and make changes needed to achieve goals. As most healthcare executives agree, clinics should be targeting a utilization level above 80%. Forward-thinking executives are considering investments in process and technology that optimize exam room utilization now. In fact, 70% of those surveyed expressed an interest in solutions that can solve their exam room underutilization challenges\"\n",
      "    },\n",
      "    {\n",
      "        \"index\": 4,\n",
      "        \"text\": \"\\nAt a time when every dollar counts, health systems should be investing in scheduling solutions that optimize exam room utilization. The most important expected outcomes, as shown in the pie chart, can be generally grouped into three categories: Defined Outcomes from Exam Room Optimization. Implementing an exam room management system will improve clinic room utilization and increase operational efficiencies, enhancing patient access to care and positioning health systems to successfully adapt to the new healthcare environment. Patient throughput will be increased in a cost-effective manner, thereby increasing operating income. Now is the time to take a holistic approach to capacity management and evaluate scheduling technologies that are purpose-built to optimize exam room utilization. In Conclusion. Time is saved and the opportunity for human error, such as double-bookings and empty rooms that result when schedules are kept in silos, is reduced. Unnecessary back-and-forth communication between clinics, departments, providers, and patients decreases. Administrators can collect the data they need to understand utilization trends and address problem areas. The result is that overhead budgets can be reduced or reallocated to more productive services. Patients can access care sooner and spend less time in the waiting room, leading to higher satisfaction and greater likelihood to return in the future. Providers will have the flexibility to see more patients and better allocate their\"\n",
      "    },\n",
      "    {\n",
      "        \"index\": 5,\n",
      "        \"text\": \"\\nAbout QGenda\\nQGenda revolutionizes healthcare workforce management everywhere care is delivered. QGenda ProviderCloud, a purpose-built healthcare platform that empowers customers to effectively deploy workforce resources, includes solutions for scheduling, credentialing, on-call scheduling, room and capacity management, time tracking, compensation management, and workforce analytics. More than 4,500 organizations partner with QGenda to advance provider scheduling, optimize capacity, and improve access to care. QGenda is headquartered in Atlanta, Georgia.\\nAbout Porter Research\\nPorter Research works with healthcare and IT companies to develop and execute market research programs and create strategies using market intelligence uncovered. With 30 years of experience, we have worked with more than 300 IT companies, and complete thousands of interviews each year. This means we know your industry, we know how you need to use the data, and we execute the right research program to uncover what you can\\u2019t find on your own. For more information visit www.porterresearch.com.\\nLearn how QGenda can help improve exam room utilization and increase operational efficiencies. www.QGenda.com/clinic-exam-room-capacity\"\n",
      "    }\n",
      "]\n"
     ]
    }
   ],
   "source": [
    "# Lazy way: Use LLM to clean up outputs.\n",
    "from langchain_openai import OpenAI\n",
    "from langchain.docstore.document import Document\n",
    "from langchain.chains import LLMChain\n",
    "from utilities import get_openai_key\n",
    "\n",
    "api_key = get_openai_key()\n",
    "\n",
    "llm = OpenAI(temperature=1.0)\n",
    "cleaned_pages = []\n",
    "for page in pages:\n",
    "    raw_text = page['text']\n",
    "    # Create the chain using the RunnableSequence\n",
    "    chain_qa = prompt | llm\n",
    "    llm_results = chain_qa.invoke({\"summaries\": raw_text}, return_only_outputs=True)\n",
    "    cleaned_text = llm_results\n",
    "    cleaned_pages.append({\"index\": page['index'], \"text\": cleaned_text})\n",
    "\n",
    "# Convert the cleaned pages list to JSON format\n",
    "cleaned_pages_json = json.dumps(cleaned_pages, indent=4)\n",
    "\n",
    "# Output the result\n",
    "print(cleaned_pages_json)"
   ]
  },
  {
   "cell_type": "markdown",
   "metadata": {},
   "source": [
    "Create a .json file of the cleaned data for later use. "
   ]
  },
  {
   "cell_type": "code",
   "execution_count": 13,
   "metadata": {},
   "outputs": [],
   "source": [
    "from pathlib import Path\n",
    "\n",
    "original_f = Path(pdf)\n",
    "new_f = original_f.with_stem(original_f.stem + '_cleaned')\n",
    "json_format = new_f.with_suffix('.json')\n",
    "\n",
    "with open(json_format, 'w', encoding='utf-8') as file:\n",
    "    file.write(cleaned_pages_json)"
   ]
  }
 ],
 "metadata": {
  "kernelspec": {
   "display_name": ".venv",
   "language": "python",
   "name": "python3"
  },
  "language_info": {
   "codemirror_mode": {
    "name": "ipython",
    "version": 3
   },
   "file_extension": ".py",
   "mimetype": "text/x-python",
   "name": "python",
   "nbconvert_exporter": "python",
   "pygments_lexer": "ipython3",
   "version": "3.12.6"
  }
 },
 "nbformat": 4,
 "nbformat_minor": 2
}

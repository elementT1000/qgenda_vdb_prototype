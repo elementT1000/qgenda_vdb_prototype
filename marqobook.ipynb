{
 "cells": [
  {
   "cell_type": "markdown",
   "metadata": {},
   "source": [
    "## Step 2. Index the data in a vector database\n",
    "Set up the marqo client. Make sure to activate the marqo server running in docker with the correct port (8882)."
   ]
  },
  {
   "cell_type": "code",
   "execution_count": 1,
   "metadata": {},
   "outputs": [
    {
     "data": {
      "text/plain": [
       "{'errors': False,\n",
       " 'processingTimeMs': 5576.420437000024,\n",
       " 'index_name': 'book-index',\n",
       " 'items': [{'status': 200, '_id': 'b18a8f2f-7d74-453b-b05b-82439d5f674e'},\n",
       "  {'status': 200, '_id': '5077d240-5ab5-4451-aa4a-6f67c5448dda'},\n",
       "  {'status': 200, '_id': '299de6dd-131a-4093-bd7b-e5b999ed6e7a'},\n",
       "  {'status': 200, '_id': '1acbd09a-f7cb-49f6-af59-0afac5738c3e'},\n",
       "  {'status': 200, '_id': 'ef1110d9-64b6-47c2-8ae9-b52fcd4e1980'},\n",
       "  {'status': 200, '_id': 'ff8a7277-a301-4020-ae8a-1d4bffe8325a'}]}"
      ]
     },
     "execution_count": 1,
     "metadata": {},
     "output_type": "execute_result"
    }
   ],
   "source": [
    "import marqo\n",
    "import json\n",
    "\n",
    "mq = marqo.Client(url='http://localhost:8882')\n",
    "index_name = \"book-index\"\n",
    "\n",
    "# Check if this index has been created, if so, delete\n",
    "try:\n",
    "    mq.index(index_name).delete()\n",
    "except:\n",
    "    pass\n",
    "\n",
    "mq.create_index(index_name, model=\"hf/e5-base-v2\")\n",
    "\n",
    "# Load pre-cleaned data\n",
    "with open(r'docs\\QGenda Whitepaper_cleaned.json', 'r', encoding='utf-8') as file:\n",
    "    data = json.load(file)\n",
    "\n",
    "# Index to marqo\n",
    "mq.index(index_name).add_documents(\n",
    "    data,\n",
    "    tensor_fields=[\"text\"]\n",
    ")"
   ]
  },
  {
   "cell_type": "markdown",
   "metadata": {},
   "source": [
    "## Step 3. Set up search prompt and query with LLM\n",
    "Observe the results of a basic tensor search. This should return the most related text to the question, based on a semantic search. "
   ]
  },
  {
   "cell_type": "code",
   "execution_count": 2,
   "metadata": {},
   "outputs": [
    {
     "name": "stdout",
     "output_type": "stream",
     "text": [
      "{'hits': [{'index': 1, '_id': '5077d240-5ab5-4451-aa4a-6f67c5448dda', 'text': 'Copyright © 2024 QGenda, LLC All rights reserved. As healthcare leaders reimagine patient access and care delivery in a post-pandemic world, there is an emerging story around the need to optimize clinic exam room utilization. Better utilization can improve operating efficiency, patient satisfaction, and revenue capture. The 2020 Porter Research study of 100 health system executive leaders identified the many challenges faced today with exam room scheduling, future expectations for optimizing exam rooms, and the impact that proper exam room scheduling can have on a health system\\'s P&L. Increasing Scrutiny on Clinic Exam Rooms With the limited funds available for health system capital expenditures, executives must optimize their existing physical space while simultaneously remaining adaptable to fluctuations in patient demand. In the short term, health systems may experience an influx of patients who delayed elective surgeries, treatments for minor health issues, and preventative visits due to COVID-19. As a result, clinics could be overwhelmed. Patients may experience significant wait times and cumbersome appointment rescheduling. Inefficient scheduling could result in additional revenue leakage, because patients who cannot secure timely appointments at their first-choice location may decide to go elsewhere. In the longer term, executives will need to focus on closing a 20-point utilization gap. Health system executives surveyed identified optimal exam room utilization to be between 80 and 89%. However, 72% of respondents indicated their clinics were operating well under the optimal level. Generally, executives identified a 20-point gap between their clinics\\' utilization and the optimal utilization level. The direct impact to health system revenue can be dramatic. The Orthopedic Director at a large regional health system quantified lost revenue attributable to this gap: \"Our providers see 25 to 30 patients per day, when in reality, we could see 35 to 40 patients. Given our average billing, there is a minimum of $2,000 per provider per day that we are not able to realize due to exam room underutilization.\" 2 Clinic Exam Room Utilization Current 40% 0% 30% 20% 10% <60 61-69 70-79 80-89 90-100 Unsure 5% 16% 34% 22% 20% 3% Optimal Utilization', '_highlights': [{'text': \"Generally, executives identified a 20-point gap between their clinics' utilization and the optimal utilization level. The direct impact to health system revenue can be dramatic.\"}], '_score': 0.898740354614625}, {'index': 2, '_id': '299de6dd-131a-4093-bd7b-e5b999ed6e7a', 'text': 'Copyright © 2024 QGenda, LLC All rights reserved. As health systems return to typical operating levels, it will be important to focus on improving room utilization for the long term. For example, closing the utilization gap means that health systems can increase patient throughput without having to invest in new rooms or buildings or hire new staff. As the VP of Oncology Services at a large health system explained: \"If I can increase my exam room utilization by 20%, given my operational expenses, I could save $200,000 per clinic. With 14 clinics, that means $2.8 million in annual savings.\" While it may take time to fully close the utilization gap, even small improvements are meaningful. At this health system for example, each 1% increase in utilization results in a savings of $140,000 per year that can drop to the bottom line or be invested in revenue-producing activities. This missed opportunity is why 70% of executives surveyed expressed a sincere interest in solutions that close the clinic and exam room utilization gap. 3 Technology Not Meeting the Need Proper exam room management is challenging. This is partially because of process and partially because most health systems do not have access to exam room scheduling technologies that are purpose-built to optimize physical space. Thirty percent of respondents reported they do not use any software to manage their exam rooms and require staff to develop processes unique to each department. Another 20% use Microsoft Excel. The remaining 50% use other technologies that are not intentionally designed for exam room scheduling. \" If I can increase my exam room utilization by 20%, given my operational expenses, I could save $200,000 per clinic. With 14 clinics, that means $2.8 million in annual savings. - VP of Oncology Services at Large Health System Current Clinic/Exam Room Scheduling Solution No Technology / Solution in Place Microsoft Excel Other 53% 30% 17%', '_highlights': [{'text': 'For example, closing the utilization gap means that health systems can increase patient throughput without having to invest in new rooms or buildings or hire new staff. As the VP of Oncology Services at a large health system explained: \"If I can increase my exam room utilization by 20%, given my operational expenses, I could save $200,000 per clinic.'}], '_score': 0.872260741337826}], 'query': 'What utilization gap do executives need to focus on?', 'limit': 2, 'offset': 0, 'processingTimeMs': 129}\n"
     ]
    }
   ],
   "source": [
    "question=\"What utilization gap do executives need to focus on?\"\n",
    "\n",
    "# Return just two results\n",
    "results = mq.index(\"book-index\").search(\n",
    "    q=question,\n",
    "    limit=2\n",
    ")\n",
    "print(results)"
   ]
  },
  {
   "cell_type": "code",
   "execution_count": 3,
   "metadata": {},
   "outputs": [],
   "source": [
    "# Set up prompt for GPT\n",
    "from langchain.prompts import PromptTemplate\n",
    "\n",
    "template = \"\"\"\n",
    "Given the following extracted parts of a long document (\"SOURCES\") and a question (\"QUESTION\"), create a concise answer followed by a list of supporting facts in bullet point format.\n",
    "- Start with a brief, one- or two-sentence answer addressing the question directly.\n",
    "- Then, list key supporting facts and figures derived strictly from the SOURCES in markdown format.\n",
    "- Do not make up an answer or include information not found in the SOURCES. If the SOURCES do not provide enough information to answer, state \"I don't know\" and explain that the SOURCES lack sufficient details.\n",
    "QUESTION: {question}\n",
    "=========\n",
    "SOURCES:\n",
    "{summaries}\n",
    "=========\n",
    "ANSWER:\n",
    "\"\"\"\n",
    "prompt = PromptTemplate(template=template, input_variables=[\"summaries\", \"question\"])"
   ]
  },
  {
   "cell_type": "code",
   "execution_count": 4,
   "metadata": {},
   "outputs": [
    {
     "name": "stdout",
     "output_type": "stream",
     "text": [
      "OpenAI key accessed.\n",
      "Executives need to focus on closing a 20-point utilization gap in exam room usage to align with optimal levels of 80 to 89%. \n",
      "\n",
      "- Health system executives indicated that their clinics are operating significantly below optimal utilization, with 72% reporting lower levels.\n",
      "- The identified utilization gap averages 20 points from the optimal usage.\n",
      "- Closing this gap could dramatically impact health system revenue; for instance, the Orthopedic Director noted potential lost revenue from being able to see more patients daily (35 to 40 instead of 25 to 30).\n",
      "- Increasing exam room utilization by 20% could lead to savings of $200,000 per clinic, translating to $2.8 million in annual savings for systems with 14 clinics.\n"
     ]
    }
   ],
   "source": [
    "# Run LLM\n",
    "from langchain_openai import ChatOpenAI\n",
    "from langchain.docstore.document import Document\n",
    "from utilities import extract_text_from_highlights, get_openai_key\n",
    "\n",
    "api_key = get_openai_key()\n",
    "\n",
    "highlights, texts = extract_text_from_highlights(results, token_limit=150)\n",
    "docs = [Document(page_content=f\"Source [{ind}]:\" + t) for ind, t in enumerate(texts)]\n",
    "llm = ChatOpenAI(model_name='gpt-4o-mini', temperature=0.8)\n",
    "# Create the chain using the RunnableSequence\n",
    "chain_qa = prompt | llm\n",
    "llm_results = chain_qa.invoke({\"summaries\": docs, \"question\": results['query']}, return_only_outputs=True)\n",
    "ans = llm_results.content\n",
    "print(ans)"
   ]
  },
  {
   "cell_type": "markdown",
   "metadata": {},
   "source": [
    "## Step 4. Evaluate model performance\n",
    "See [Model Grading](https://cookbook.openai.com/examples/evaluation/getting_started_with_openai_evals?utm_source=chatgpt.com) for background. First, we will set up an eval prompt, then run a new model with the source data and the 'ans' variable from the previous step. "
   ]
  },
  {
   "cell_type": "code",
   "execution_count": 5,
   "metadata": {},
   "outputs": [],
   "source": [
    "eval_template = \"\"\"\n",
    "SYSTEM: You are a meticulous evaluator tasked with grading the performance of an AI model in responding to a specific task. Your role is to evaluate the accuracy, relevance, and factuality of the model’s response based on the provided source material. Follow these instructions carefully:\n",
    "\n",
    "1. Fact-Checking:\n",
    "    Compare the response (ans) against the source material (results).\n",
    "    Determine if the response is factually correct based on the source. Reason step-by-step before concluding with a clear \"Yes\" or \"No.\"\n",
    "\n",
    "2. Relevance of Facts:\n",
    "    Assess whether the model used the most pertinent facts from the source material to answer the question effectively. Provide reasoning to support your judgment.\n",
    "\n",
    "3. Detection of Hallucinations:\n",
    "    Look for evidence of hallucinations—information or details in the response that are not supported by the source material.\n",
    "    If hallucinations are present, clearly highlight them and explain why they are incorrect or unsupported.\n",
    "RESULTS: {results}\n",
    "=========\n",
    "ANSWER:\n",
    "{ans}\n",
    "\"\"\"\n",
    "eval_prompt = PromptTemplate(template=eval_template, input_variables=[\"results\", \"ans\"])"
   ]
  },
  {
   "cell_type": "code",
   "execution_count": 7,
   "metadata": {},
   "outputs": [
    {
     "name": "stdout",
     "output_type": "stream",
     "text": [
      "1. Fact-Checking:\n",
      "   - The response states that executives need to focus on closing a 20-point utilization gap in exam room usage, aiming for optimal levels of 80 to 89%. This is supported by the source, which mentions that executives identified a 20-point gap between current utilization and optimal levels, defined as 80 to 89%.\n",
      "   - The statement that 72% of clinics operate below optimal utilization is correct as per the source material.\n",
      "   - The response mentions potential lost revenue due to underutilization, citing the Orthopedic Director's comment about seeing fewer patients than possible, which aligns with the source.\n",
      "   - The claim about saving $200,000 per clinic by increasing utilization by 20% is supported by the source, quoting the VP of Oncology Services.\n",
      "\n",
      "   Conclusion: Yes, the response is factually correct based on the source material.\n",
      "\n",
      "2. Relevance of Facts:\n",
      "   - The model selects key facts from the source that directly address the utilization gap, such as the 20-point gap, the percent of clinics below optimal utilization, and the financial implications of closing the gap.\n",
      "   - These facts are pertinent and effectively answer the query about the utilization gap, highlighting its significance and potential financial impact.\n",
      "\n",
      "   Conclusion: Yes, the response uses the most pertinent facts from the source material.\n",
      "\n",
      "3. Detection of Hallucinations:\n",
      "   - All claims in the response are supported by the source material, with no information present that is not corroborated by the data provided.\n",
      "\n",
      "   Conclusion: No, there are no hallucinations in the response.\n"
     ]
    }
   ],
   "source": [
    "eval_llm = ChatOpenAI(model_name='gpt-4o', temperature=0.7)\n",
    "chain_eval = eval_prompt | eval_llm\n",
    "full_eval_results = chain_eval.invoke({\"results\": results, \"ans\": ans}, return_only_outputs=True)\n",
    "eval_content = full_eval_results.content\n",
    "print(eval_content)"
   ]
  }
 ],
 "metadata": {
  "kernelspec": {
   "display_name": ".venv",
   "language": "python",
   "name": "python3"
  },
  "language_info": {
   "codemirror_mode": {
    "name": "ipython",
    "version": 3
   },
   "file_extension": ".py",
   "mimetype": "text/x-python",
   "name": "python",
   "nbconvert_exporter": "python",
   "pygments_lexer": "ipython3",
   "version": "3.12.6"
  }
 },
 "nbformat": 4,
 "nbformat_minor": 2
}

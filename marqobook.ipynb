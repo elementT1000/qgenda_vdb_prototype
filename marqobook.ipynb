{
 "cells": [
  {
   "cell_type": "code",
   "execution_count": 1,
   "metadata": {},
   "outputs": [
    {
     "data": {
      "text/plain": [
       "{'errors': False,\n",
       " 'processingTimeMs': 4635.589048999464,\n",
       " 'index_name': 'book-index',\n",
       " 'items': [{'status': 200, '_id': '4cff9e32-e123-47e9-8ea5-501d1824a8c8'},\n",
       "  {'status': 200, '_id': '7579c148-9a56-448e-8ad1-4b0358c35e76'},\n",
       "  {'status': 200, '_id': '3a0a46cc-69ba-484f-8fe4-6ed0564f896f'},\n",
       "  {'status': 200, '_id': '7538b76f-ecfc-4c92-99e8-c0353adcf95b'},\n",
       "  {'status': 200, '_id': 'cc09dc29-ead2-41c9-994d-4113aead5873'},\n",
       "  {'status': 200, '_id': 'c78cb57a-39f0-4f2c-95b8-9821d589ba25'}]}"
      ]
     },
     "execution_count": 1,
     "metadata": {},
     "output_type": "execute_result"
    }
   ],
   "source": [
    "import marqo\n",
    "import json\n",
    "\n",
    "mq = marqo.Client(url='http://localhost:8882')\n",
    "index_name = \"book-index\"\n",
    "\n",
    "# Check if this index has been created, if so, delete\n",
    "try:\n",
    "    mq.index(index_name).delete()\n",
    "except:\n",
    "    pass\n",
    "\n",
    "mq.create_index(index_name, model=\"hf/e5-base-v2\")\n",
    "\n",
    "# Load pre-cleaned data\n",
    "with open(r'docs\\QGenda Whitepaper_cleaned.json', 'r', encoding='utf-8') as file:\n",
    "    data = json.load(file)\n",
    "\n",
    "# Index to marqo\n",
    "mq.index(index_name).add_documents(\n",
    "    data,\n",
    "    tensor_fields=[\"text\"]\n",
    ")"
   ]
  },
  {
   "cell_type": "code",
   "execution_count": 2,
   "metadata": {},
   "outputs": [
    {
     "name": "stdout",
     "output_type": "stream",
     "text": [
      "{'hits': [{'index': 1, '_id': '7579c148-9a56-448e-8ad1-4b0358c35e76', 'text': 'As healthcare leaders reimagine patient access and care delivery in a post-pandemic world, there is an emerging story around the need to optimize clinic exam room utilization. Better utilization can improve operating efficiency, patient satisfaction, and revenue capture. The 2020 Porter Research study of 100 health system executive leaders identified the many challenges faced today with exam room scheduling, future expectations for optimizing exam rooms, and the impact that proper exam room scheduling can have on a health system’s P&L. Increasing Scrutiny on Clinic Exam Rooms With the limited funds available for health system capital expenditures, executives must optimize their existing physical space while simultaneously remaining adaptable to fluctuations in patient demand. In the short term, health systems may experience an influx of patients who delayed elective surgeries, treatments for minor health issues, and preventative visits due to COVID-19. As a result, clinics could be overwhelmed. Patients may experience significant wait times and cumbersome appointment rescheduling. Inefficient scheduling could result in additional revenue leakage, because patients who cannot secure timely appointments at their first-choice location may decide to go elsewhere. In the longer term, executives will need to focus on closing a 20-point utilization gap. Health system executives surveyed identified optimal exam room utilization to be between 80 and 89%. However, ', '_highlights': [{'text': 'In the longer term, executives will need to focus on closing a 20-point utilization gap. Health system executives surveyed identified optimal exam room utilization to be between 80 and 89%.'}], '_score': 0.9018267873917655}, {'index': 2, '_id': '3a0a46cc-69ba-484f-8fe4-6ed0564f896f', 'text': 'As health systems return to typical operating levels, it will be important to focus on improving room utilization for the long term. For example, closing the utilization gap means that health systems can increase patient throughput without having to invest in new rooms or buildings or hire new staff. As the VP of Oncology Services at a large health system explained: \"If I can increase my exam room utilization by 20%, given my operational expenses, I could save $200,000 per clinic. With 14 clinics, that means $2.8 million in annual savings.\" While it may take time to fully close the utilization gap, even small improvements are meaningful. At this health system for example, each 1% increase in utilization results in a savings of $140,000 per year that can drop to the bottom line or be invested in revenue-producing activities. This missed opportunity is why 70% of executives surveyed expressed a sincere interest in solutions that close the clinic and exam room utilization gap. Proper exam room management is challenging. This is partially because of process and partially because most health systems do not have access to exam room scheduling technologies that are purpose-built to optimize physical space. Thirty percent of respondents reported they do not use any software to manage their exam rooms and require staff to develop processes unique', '_highlights': [{'text': 'This missed opportunity is why 70% of executives surveyed expressed a sincere interest in solutions that close the clinic and exam room utilization gap. Proper exam room management is challenging.'}], '_score': 0.8742188758314992}], 'query': 'What utilization gap do executives need to focus on?', 'limit': 2, 'offset': 0, 'processingTimeMs': 128}\n"
     ]
    }
   ],
   "source": [
    "# Perform generic search query\n",
    "question=\"What utilization gap do executives need to focus on?\"\n",
    "\n",
    "results = mq.index(\"book-index\").search(\n",
    "    q=question,\n",
    "    limit=2\n",
    ")\n",
    "print(results)"
   ]
  },
  {
   "cell_type": "code",
   "execution_count": 3,
   "metadata": {},
   "outputs": [
    {
     "name": "stdout",
     "output_type": "stream",
     "text": [
      "OpenAI key accessed.\n"
     ]
    }
   ],
   "source": [
    "import os\n",
    "\n",
    "openai_key = os.getenv('OPENAI_API_KEY')\n",
    "\n",
    "if openai_key:\n",
    "    print(\"OpenAI key accessed.\")\n",
    "else:\n",
    "    print(\"API Key not found. Check your environment variables.\")"
   ]
  },
  {
   "cell_type": "code",
   "execution_count": 4,
   "metadata": {},
   "outputs": [],
   "source": [
    "# Set up prompt for GPT\n",
    "from langchain.prompts import PromptTemplate\n",
    "\n",
    "template = \"\"\"\n",
    "Given the following extracted parts of a long document (\"SOURCES\") and a question (\"QUESTION\"), create a final answer one paragraph long.\n",
    "Don't try to make up an answer and use the text in the SOURCES only for the answer. If you don't know the answer, just say that you don't know.\n",
    "QUESTION: {question}\n",
    "=========\n",
    "SOURCES:\n",
    "{summaries}\n",
    "=========\n",
    "ANSWER:\n",
    "\"\"\"\n",
    "prompt = PromptTemplate(template=template, input_variables=[\"summaries\", \"question\"])"
   ]
  },
  {
   "cell_type": "code",
   "execution_count": 5,
   "metadata": {},
   "outputs": [
    {
     "name": "stderr",
     "output_type": "stream",
     "text": [
      "C:\\Users\\trott\\AppData\\Local\\Temp\\ipykernel_11220\\3493308595.py:10: LangChainDeprecationWarning: The class `LLMChain` was deprecated in LangChain 0.1.17 and will be removed in 1.0. Use :meth:`~RunnableSequence, e.g., `prompt | llm`` instead.\n",
      "  chain_qa = LLMChain(llm=llm, prompt=prompt)\n"
     ]
    },
    {
     "name": "stdout",
     "output_type": "stream",
     "text": [
      "Executives need to focus on closing a 20-point utilization gap, as identified by health system executives surveyed. This gap refers to the difference between the optimal exam room utilization of 80-89% and the current utilization rate. While it may be challenging, small improvements in utilization can result in significant cost savings, according to a health system that saw a $140,000 per year increase for every 1% improvement in utilization. Additionally, 70% of executives surveyed expressed interest in solutions that can help close this gap, as proper exam room management is crucial but can be difficult without purpose-built technology.\n"
     ]
    }
   ],
   "source": [
    "# Run LLM\n",
    "from langchain_openai import OpenAI\n",
    "from langchain.docstore.document import Document\n",
    "from langchain.chains import LLMChain\n",
    "from utilities import extract_text_from_highlights\n",
    "\n",
    "highlights, texts = extract_text_from_highlights(results, token_limit=150)\n",
    "docs = [Document(page_content=f\"Source [{ind}]:\" + t) for ind, t in enumerate(texts)]\n",
    "llm = OpenAI(temperature=0.9)\n",
    "chain_qa = LLMChain(llm=llm, prompt=prompt)\n",
    "llm_results = chain_qa.invoke({\"summaries\": docs, \"question\": results['query']}, return_only_outputs=True)\n",
    "print(llm_results['text'])"
   ]
  }
 ],
 "metadata": {
  "kernelspec": {
   "display_name": ".venv",
   "language": "python",
   "name": "python3"
  },
  "language_info": {
   "codemirror_mode": {
    "name": "ipython",
    "version": 3
   },
   "file_extension": ".py",
   "mimetype": "text/x-python",
   "name": "python",
   "nbconvert_exporter": "python",
   "pygments_lexer": "ipython3",
   "version": "3.12.6"
  }
 },
 "nbformat": 4,
 "nbformat_minor": 2
}
